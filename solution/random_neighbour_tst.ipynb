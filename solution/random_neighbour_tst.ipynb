{
 "cells": [
  {
   "cell_type": "code",
   "execution_count": 1,
   "id": "initial_id",
   "metadata": {
    "collapsed": true,
    "ExecuteTime": {
     "end_time": "2023-12-14T21:51:02.131443800Z",
     "start_time": "2023-12-14T21:51:01.272277600Z"
    }
   },
   "outputs": [],
   "source": [
    "import SimulatedAnnealing.Solver as solver\n",
    "import SimulatedAnnealing.Visualisation.Visualisation as vis\n",
    "import FactoryAssignmentProblem.DataTypes as data"
   ]
  }
 ],
 "metadata": {
  "kernelspec": {
   "display_name": "Python 3",
   "language": "python",
   "name": "python3"
  },
  "language_info": {
   "codemirror_mode": {
    "name": "ipython",
    "version": 2
   },
   "file_extension": ".py",
   "mimetype": "text/x-python",
   "name": "python",
   "nbconvert_exporter": "python",
   "pygments_lexer": "ipython2",
   "version": "2.7.6"
  }
 },
 "nbformat": 4,
 "nbformat_minor": 5
}
